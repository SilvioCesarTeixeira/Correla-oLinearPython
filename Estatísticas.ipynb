{
  "nbformat": 4,
  "nbformat_minor": 0,
  "metadata": {
    "colab": {
      "name": "Estatísticas.ipynb",
      "provenance": [],
      "collapsed_sections": [],
      "authorship_tag": "ABX9TyOrpkJWh9UN4Bzo8EKrs4v4",
      "include_colab_link": true
    },
    "kernelspec": {
      "name": "python3",
      "display_name": "Python 3"
    },
    "language_info": {
      "name": "python"
    }
  },
  "cells": [
    {
      "cell_type": "markdown",
      "metadata": {
        "id": "view-in-github",
        "colab_type": "text"
      },
      "source": [
        "<a href=\"https://colab.research.google.com/github/SilvioCesarTeixeira/EstudoCorrLinearPython/blob/main/Estat%C3%ADsticas.ipynb\" target=\"_parent\"><img src=\"https://colab.research.google.com/assets/colab-badge.svg\" alt=\"Open In Colab\"/></a>"
      ]
    },
    {
      "cell_type": "code",
      "execution_count": null,
      "metadata": {
        "id": "UFT7BB0zwSqN"
      },
      "outputs": [],
      "source": [
        "import numpy as np\n",
        "import pandas as pd\n",
        "import matplotlib.pyplot as plt\n",
        "import seaborn as sns\n",
        "##from google.colab import files\n",
        "##uploaded = files.upload()\n",
        "import statsmodels.api as sm\n",
        "import pandas.util.testing as tm\n",
        "import io"
      ]
    },
    {
      "cell_type": "markdown",
      "source": [
        "Entrada de Dados"
      ],
      "metadata": {
        "id": "3w7ZRCOMftSX"
      }
    },
    {
      "cell_type": "code",
      "source": [
        "# entrada com listas separadas\n",
        "# x = []\n",
        "# y = []\n",
        "#\n",
        "# entrada com arquivo (exemplo csv)\n",
        "# df = pd.read.csv(io.StringIO(uploaded['nome_do_arquivo.csv'].decode('utf-8)))\n",
        "#\n",
        "# entrada com listas simples, criando Dataframe, renomeando colunas para x e y\n",
        "# lstx = ()\n",
        "# lsty = ()\n",
        "# df = pd.DataFrame(list(zip(lstx,lsty)), columns = \"x\",\"y\")\n",
        "#\n",
        "# df.head(10)"
      ],
      "metadata": {
        "id": "I6fR6PaTfszI"
      },
      "execution_count": null,
      "outputs": []
    },
    {
      "cell_type": "markdown",
      "source": [
        "Criar dataframe"
      ],
      "metadata": {
        "id": "ZtDWe5-6oT9w"
      }
    },
    {
      "cell_type": "code",
      "source": [
        "df1 = pd.DataFrame(data=df)\n",
        "#definir a variável resposta\n",
        "y = df1['nome_da_coluna_y']\n",
        "#definir a variável preditora\n",
        "x = df1['nome_da_coluna_x']"
      ],
      "metadata": {
        "id": "tNxXrnsem7bz"
      },
      "execution_count": null,
      "outputs": []
    },
    {
      "cell_type": "markdown",
      "source": [
        "Realizar análise de regressão linear com API statsmodel"
      ],
      "metadata": {
        "id": "PbKvP00YoXc4"
      }
    },
    {
      "cell_type": "code",
      "source": [
        "#adicionar uma constante preditora\n",
        "x = sm.add_constant(x)\n",
        "#utilizar linear regression model\n",
        "modelo = sm.OLS(y, x).fit() ## atenção esta variável será usada no IC\n",
        "print(modelo.summary())"
      ],
      "metadata": {
        "id": "TWzjTJA8nzzt"
      },
      "execution_count": null,
      "outputs": []
    },
    {
      "cell_type": "markdown",
      "source": [
        "Visualizar comportamento graficamente"
      ],
      "metadata": {
        "id": "R1SD2-qKonGh"
      }
    },
    {
      "cell_type": "code",
      "source": [
        "#@title  { display-mode: \"code\" }\n",
        "sns.lmplot(x='nome_da_coluna_x', y='nome_da_coluna_y', data=df1);plt.grid(True)"
      ],
      "metadata": {
        "id": "FjVczE83sGbi"
      },
      "execution_count": null,
      "outputs": []
    },
    {
      "cell_type": "markdown",
      "source": [
        "Verificar Beta zero e Beta um"
      ],
      "metadata": {
        "id": "YlASPYVCsKh4"
      }
    },
    {
      "cell_type": "code",
      "source": [
        "# parâmetros da reta\n",
        "b=modelo.params\n",
        "b0=b[0] #intercepto\n",
        "b1=b[1] #inclinação\n",
        "print('y= {0}{1} x'.format(b0,b1))"
      ],
      "metadata": {
        "id": "cZ4jeOeJrme1"
      },
      "execution_count": null,
      "outputs": []
    },
    {
      "cell_type": "markdown",
      "source": [
        "Calcular erros e erros padronizados"
      ],
      "metadata": {
        "id": "9DjNyQRusQSo"
      }
    },
    {
      "cell_type": "code",
      "source": [
        "x = df1['nome_da_coluna_x']"
      ],
      "metadata": {
        "id": "aJDrG5gHrnqD"
      },
      "execution_count": null,
      "outputs": []
    },
    {
      "cell_type": "code",
      "source": [
        "y_pred=list(modelo.predict())\n",
        "#sns.resid(modelo)\n",
        "resi=list(modelo.resid)"
      ],
      "metadata": {
        "id": "48w86o8Erxki"
      },
      "execution_count": null,
      "outputs": []
    },
    {
      "cell_type": "code",
      "source": [
        "#criar instancia influence\n",
        "influence = modelo.get_influence()\n",
        "#obter residuos standardizados\n",
        "stdresid = list(influence.resid_studentized_internal)"
      ],
      "metadata": {
        "id": "eMtVGbwbskg2"
      },
      "execution_count": null,
      "outputs": []
    },
    {
      "cell_type": "code",
      "source": [
        "prop=np.divide(resi,stdresid) #e/e* para verificar a proporcionalidade entre o erro e o erro padronizado"
      ],
      "metadata": {
        "id": "h67FpcElspEG"
      },
      "execution_count": null,
      "outputs": []
    },
    {
      "cell_type": "markdown",
      "source": [
        "Criar dataframe com os erros padronizados e proporcionais"
      ],
      "metadata": {
        "id": "5l7iT7IstMTf"
      }
    },
    {
      "cell_type": "code",
      "source": [
        "# title Tabela geral\n",
        "dft = pd.DataFrame(list(zip(x, y, y_pred, resi, stdresid, prop)),\n",
        "               columns =[\"x\",\"y\",\"yc\",\"e\",\"e*\",\"e/e*\"])\n",
        "dft "
      ],
      "metadata": {
        "id": "P933PRhbs8-s"
      },
      "execution_count": null,
      "outputs": []
    },
    {
      "cell_type": "code",
      "source": [
        "#@title Gráficos de diagnóstico 2 (y vs. yc)\n",
        "sns.lmplot(x='y', y='yc', data=dft);plt.grid(True)"
      ],
      "metadata": {
        "id": "u5n3cloVtaoV"
      },
      "execution_count": null,
      "outputs": []
    },
    {
      "cell_type": "code",
      "source": [
        "#@title Gráficos de diagnóstico 3 (resíduos padronizados vs. x)\n",
        "sns.scatterplot(x='x', y='e*', data=dft);plt.grid(True)\n",
        "plt.xlabel('x= Rótulo da variável preditora')\n",
        "plt.ylabel('e*= Resíduos padronizados')\n",
        "plt.axhline(y=0, color='black', linestyle='--', linewidth=1)\n",
        "plt.show()"
      ],
      "metadata": {
        "id": "8CUR8h9Ftb-S"
      },
      "execution_count": null,
      "outputs": []
    },
    {
      "cell_type": "code",
      "source": [
        "#@title Gráficos de diagnóstico 4 (resíduos padronizados vs. y)\n",
        "sns.scatterplot(x='y', y='e*', data=dft);plt.grid(True)\n",
        "plt.xlabel('y= Rótulo da variável dependente')\n",
        "plt.ylabel('e*= Resíduos padronizados')\n",
        "plt.axhline(y=0, color='black', linestyle='--', linewidth=1)\n",
        "plt.show()"
      ],
      "metadata": {
        "id": "WiLtcsIKtov5"
      },
      "execution_count": null,
      "outputs": []
    },
    {
      "cell_type": "code",
      "source": [
        "#@title Gráficos de diagnóstico 5 Probabilidade Normal\n",
        "QQ = ProbPlot(influence.resid_studentized_internal)\n",
        "plot_lm_2 = QQ.qqplot(line='45', alpha=0.5, color='#4C72B0', lw=1)\n",
        "plot_lm_2.axes[0].set_xlabel('Percentil')\n",
        "plot_lm_2.axes[0].set_ylabel('Resíduos padronizados')"
      ],
      "metadata": {
        "id": "a-QZSFyrt1A5"
      },
      "execution_count": null,
      "outputs": []
    },
    {
      "cell_type": "code",
      "source": [
        "#@title Teste de Outliers\n",
        "test = modelo.outlier_test()\n",
        "print(\"test.columns:\", test.columns)\n",
        "print(test)\n",
        "outliers = ((x[i],y[i]) for i,t in enumerate(test.iloc[:,2]) if t < 0.5)\n",
        "print ('Outliers: ', list(outliers))"
      ],
      "metadata": {
        "id": "8v6Vil2Lt4_I"
      },
      "execution_count": null,
      "outputs": []
    },
    {
      "cell_type": "markdown",
      "source": [
        "Visualizar graficamente dados identificados"
      ],
      "metadata": {
        "id": "I5o61KgAvEFV"
      }
    },
    {
      "cell_type": "code",
      "source": [
        "plt.rcParams.update({'figure.figsize':(10,8), 'figure.dpi':100})\n",
        "sns.lmplot(x='nome_da_coluna_x', y='nome_da_coluna_y',hue='nome_da_coluna_identificadora', data=df1);"
      ],
      "metadata": {
        "id": "e7yi1f9quGhJ"
      },
      "execution_count": null,
      "outputs": []
    },
    {
      "cell_type": "markdown",
      "source": [
        "Calcular Intervalo de Confiança por meio do valor retornado da API statsmodel"
      ],
      "metadata": {
        "id": "iEK29u5VvZUK"
      }
    },
    {
      "cell_type": "code",
      "source": [
        "a= modelo.conf_int(alpha=0.05, cols=None) #intervalo de confiança de b0 e b1\n",
        "a"
      ],
      "metadata": {
        "id": "LwL-H7lOvCkL"
      },
      "execution_count": null,
      "outputs": []
    },
    {
      "cell_type": "code",
      "source": [
        "display(a.iloc[0,:]) #intervalo de confiança beta0\n",
        "display(a.iloc[1,:]) #intervalo de confiança beta1"
      ],
      "metadata": {
        "id": "BqhHk0G5vohk"
      },
      "execution_count": null,
      "outputs": []
    }
  ]
}